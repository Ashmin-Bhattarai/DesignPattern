{
 "cells": [
  {
   "attachments": {},
   "cell_type": "markdown",
   "metadata": {},
   "source": [
    "# Factory Design Pattern\n",
    "<hr>\n",
    "The Factory pattern is really about adding that extra abstraction between the object creation and\n",
    "where it is used. This gives us options to create object dynamically on runtime.\n",
    "<hr>"
   ]
  },
  {
   "attachments": {},
   "cell_type": "markdown",
   "metadata": {},
   "source": [
    "### UML Diagram\n",
    "Implementation of factory pattern for different shape classes\n",
    "![UML](factory.svg)"
   ]
  },
  {
   "cell_type": "code",
   "execution_count": 1,
   "metadata": {},
   "outputs": [],
   "source": [
    "from abc import ABCMeta, abstractmethod"
   ]
  },
  {
   "cell_type": "code",
   "execution_count": 2,
   "metadata": {},
   "outputs": [],
   "source": [
    "# hypothetical interface class\n",
    "class IShape(metaclass=ABCMeta):\n",
    "    @staticmethod\n",
    "    @abstractmethod\n",
    "    def getDimension():\n",
    "        \"an abstract interface method\""
   ]
  },
  {
   "cell_type": "code",
   "execution_count": 3,
   "metadata": {},
   "outputs": [],
   "source": [
    "# a rectangle class that implements the IShape interface\n",
    "class Rectangle(IShape):\n",
    "    def __init__(self, l=None, b=None):\n",
    "        self.__length = l\n",
    "        self.__breadth = b\n",
    "    def getDimension(self):\n",
    "        return {\"lenght\": self.__length, \"breadth\": self.__breadth}"
   ]
  },
  {
   "cell_type": "code",
   "execution_count": 4,
   "metadata": {},
   "outputs": [],
   "source": [
    "# a circle class that implements the IShape interface\n",
    "class Circle(IShape):\n",
    "    def __init__(self, r=None):\n",
    "        self.__radius = r\n",
    "    def getDimension(self):\n",
    "        return {\"radius\": self.__radius}"
   ]
  },
  {
   "cell_type": "code",
   "execution_count": 5,
   "metadata": {},
   "outputs": [],
   "source": [
    "# factory class\n",
    "class ShapeFactory:\n",
    "    @staticmethod\n",
    "    def create_shape(keys, **kwargs):\n",
    "        # statice method to get Shape object\n",
    "        if keys in ['CIRCLE', 'Circle', 'circle']:\n",
    "            radius = kwargs['radius']\n",
    "            return Circle(radius)\n",
    "        elif keys in ['RECTANGLE', 'Rectangle', 'rectangle']:\n",
    "            length = kwargs['length']\n",
    "            breadth = kwargs['breadth'] \n",
    "            return Rectangle(length, breadth)\n",
    "        else:\n",
    "            return None"
   ]
  },
  {
   "cell_type": "code",
   "execution_count": 6,
   "metadata": {},
   "outputs": [
    {
     "name": "stdout",
     "output_type": "stream",
     "text": [
      "{'radius': 5}\n"
     ]
    }
   ],
   "source": [
    "# The Client 1\n",
    "myShape = ShapeFactory().create_shape(\"Circle\", radius=5)\n",
    "print(myShape.getDimension())"
   ]
  },
  {
   "cell_type": "code",
   "execution_count": 7,
   "metadata": {},
   "outputs": [
    {
     "name": "stdout",
     "output_type": "stream",
     "text": [
      "{'lenght': 10, 'breadth': 5}\n"
     ]
    }
   ],
   "source": [
    "# The Client 2\n",
    "myShape = ShapeFactory().create_shape(\"Rectangle\", length=10, breadth=5)\n",
    "print(myShape.getDimension())"
   ]
  }
 ],
 "metadata": {
  "kernelspec": {
   "display_name": "base",
   "language": "python",
   "name": "python3"
  },
  "language_info": {
   "codemirror_mode": {
    "name": "ipython",
    "version": 3
   },
   "file_extension": ".py",
   "mimetype": "text/x-python",
   "name": "python",
   "nbconvert_exporter": "python",
   "pygments_lexer": "ipython3",
   "version": "3.10.8"
  },
  "orig_nbformat": 4,
  "vscode": {
   "interpreter": {
    "hash": "49d79fd9469a91edb33923ce9871d325b7311017576e9a2f3e0f2719496edb35"
   }
  }
 },
 "nbformat": 4,
 "nbformat_minor": 2
}
